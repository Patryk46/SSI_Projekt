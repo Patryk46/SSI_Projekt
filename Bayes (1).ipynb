{
 "cells": [
  {
   "cell_type": "code",
   "execution_count": 13,
   "metadata": {},
   "outputs": [],
   "source": [
    "import numpy as np\n",
    "import pandas as pd #CSV files\n",
    "import random\n",
    "import matplotlib.pyplot as plt\n",
    "import seaborn as sns\n",
    "sns.set_palette('husl')\n",
    "iris = pd.read_csv('Iris.csv')"
   ]
  },
  {
   "cell_type": "code",
   "execution_count": 14,
   "metadata": {},
   "outputs": [],
   "source": [
    "class DataProcessing:\n",
    "    @staticmethod\n",
    "    def shuffle(X):\n",
    "        for i in range(len(X)-1, 0, -1):\n",
    "            tmp = random.randint(0, i+1)\n",
    "            X.iloc[i], X.iloc[tmp] = X.iloc[tmp], X.iloc[i]\n",
    "        return X\n",
    "    \n",
    "    @staticmethod\n",
    "    def normalize(X):\n",
    "        #(x-min)/(max-min)\n",
    "        #do zrobienia dla każdej kolumny\n",
    "        Z=X.copy()\n",
    "        values = X.select_dtypes(exclude=\"object\")\n",
    "        columnNames = values.columns.tolist()\n",
    "        for i in columnNames:\n",
    "            d = Z.loc[:, i]\n",
    "            maxi = max(d)\n",
    "            mini = min(d)\n",
    "            diff = maxi - mini\n",
    "            for j in range(0, len(Z), 1):\n",
    "                Z.at[j, i] = (Z.at[j, i] - mini) / diff\n",
    "        return Z\n",
    "    @staticmethod\n",
    "    def splitSets(X):\n",
    "        split = int(len(X)*0.7)\n",
    "        Z = X.iloc[:split, :]\n",
    "        Y = X.iloc[split:, :]\n",
    "        return Z, Y"
   ]
  },
  {
   "cell_type": "code",
   "execution_count": 15,
   "metadata": {},
   "outputs": [
    {
     "data": {
      "text/html": [
       "<div>\n",
       "<style scoped>\n",
       "    .dataframe tbody tr th:only-of-type {\n",
       "        vertical-align: middle;\n",
       "    }\n",
       "\n",
       "    .dataframe tbody tr th {\n",
       "        vertical-align: top;\n",
       "    }\n",
       "\n",
       "    .dataframe thead th {\n",
       "        text-align: right;\n",
       "    }\n",
       "</style>\n",
       "<table border=\"1\" class=\"dataframe\">\n",
       "  <thead>\n",
       "    <tr style=\"text-align: right;\">\n",
       "      <th></th>\n",
       "      <th>sepal.length</th>\n",
       "      <th>sepal.width</th>\n",
       "      <th>petal.length</th>\n",
       "      <th>petal.width</th>\n",
       "      <th>variety</th>\n",
       "    </tr>\n",
       "  </thead>\n",
       "  <tbody>\n",
       "    <tr>\n",
       "      <th>0</th>\n",
       "      <td>0.194444</td>\n",
       "      <td>0.666667</td>\n",
       "      <td>0.067797</td>\n",
       "      <td>0.041667</td>\n",
       "      <td>Setosa</td>\n",
       "    </tr>\n",
       "    <tr>\n",
       "      <th>1</th>\n",
       "      <td>0.194444</td>\n",
       "      <td>0.583333</td>\n",
       "      <td>0.101695</td>\n",
       "      <td>0.125000</td>\n",
       "      <td>Setosa</td>\n",
       "    </tr>\n",
       "    <tr>\n",
       "      <th>2</th>\n",
       "      <td>0.166667</td>\n",
       "      <td>0.208333</td>\n",
       "      <td>0.593220</td>\n",
       "      <td>0.666667</td>\n",
       "      <td>Virginica</td>\n",
       "    </tr>\n",
       "    <tr>\n",
       "      <th>3</th>\n",
       "      <td>0.666667</td>\n",
       "      <td>0.458333</td>\n",
       "      <td>0.576271</td>\n",
       "      <td>0.541667</td>\n",
       "      <td>Versicolor</td>\n",
       "    </tr>\n",
       "    <tr>\n",
       "      <th>4</th>\n",
       "      <td>0.500000</td>\n",
       "      <td>0.333333</td>\n",
       "      <td>0.627119</td>\n",
       "      <td>0.458333</td>\n",
       "      <td>Versicolor</td>\n",
       "    </tr>\n",
       "  </tbody>\n",
       "</table>\n",
       "</div>"
      ],
      "text/plain": [
       "   sepal.length  sepal.width  petal.length  petal.width     variety\n",
       "0      0.194444     0.666667      0.067797     0.041667      Setosa\n",
       "1      0.194444     0.583333      0.101695     0.125000      Setosa\n",
       "2      0.166667     0.208333      0.593220     0.666667   Virginica\n",
       "3      0.666667     0.458333      0.576271     0.541667  Versicolor\n",
       "4      0.500000     0.333333      0.627119     0.458333  Versicolor"
      ]
     },
     "execution_count": 15,
     "metadata": {},
     "output_type": "execute_result"
    }
   ],
   "source": [
    "P = DataProcessing.normalize(iris)\n",
    "P = DataProcessing.shuffle(P)\n",
    "T, W = DataProcessing.splitSets(P)\n",
    "P.head()"
   ]
  },
  {
   "cell_type": "code",
   "execution_count": 16,
   "metadata": {},
   "outputs": [],
   "source": [
    "class NaiveBayes:\n",
    "    @staticmethod\n",
    "    def gauss(x, mean, std):\n",
    "        exponent = np.exp(-(x-mean)**2/(2*std**2))\n",
    "        return 1/(np.sqrt(2*np.pi*std**2))*exponent\n",
    "    \n",
    "    @staticmethod\n",
    "    def classify(T, sample):\n",
    "        maxi = -1\n",
    "        name = \"\"\n",
    "        Sorted = T.groupby(T.columns[-1])\n",
    "        names = list(Sorted.groups.keys())\n",
    "        atr = list(Sorted.mean())\n",
    "        print(Sorted.mean())\n",
    "        average = Sorted.mean()\n",
    "        std = Sorted.std()\n",
    "        for every in names:\n",
    "            aktual = 1/len(names)\n",
    "            for i in atr:\n",
    "                aktual = aktual*NaiveBayes.gauss(sample[atr.index(i)], average[i][every], std[i][every])\n",
    "            if aktual > maxi:\n",
    "                name = every\n",
    "                maxi = aktual\n",
    "        return name"
   ]
  },
  {
   "cell_type": "code",
   "execution_count": 17,
   "metadata": {},
   "outputs": [
    {
     "name": "stdout",
     "output_type": "stream",
     "text": [
      "            sepal.length  sepal.width  petal.length  petal.width\n",
      "variety                                                         \n",
      "Setosa          0.198925     0.591398      0.086386     0.053763\n",
      "Versicolor      0.455556     0.330208      0.556780     0.522917\n",
      "Virginica       0.640523     0.403186      0.768694     0.806373\n",
      "Setosa\n"
     ]
    }
   ],
   "source": [
    "# przypadkowe dane\n",
    "df = [5, 2.3, 3.9, 1.4]\n",
    "print(NaiveBayes.classify(T, df))"
   ]
  },
  {
   "cell_type": "code",
   "execution_count": 6,
   "metadata": {},
   "outputs": [
    {
     "name": "stdout",
     "output_type": "stream",
     "text": [
      "0.9777777777777777\n"
     ]
    }
   ],
   "source": [
    "corrected = 0\n",
    "for i in range(len(W)):\n",
    "    tmp = list(W.iloc[i][:-1])\n",
    "    if NaiveBayes.classify(T, tmp) == W.iloc[i][-1]:\n",
    "        corrected += 1\n",
    "accuracy = corrected/len(W)\n",
    "print(accuracy)"
   ]
  },
  {
   "cell_type": "code",
   "execution_count": null,
   "metadata": {},
   "outputs": [],
   "source": []
  }
 ],
 "metadata": {
  "kernelspec": {
   "display_name": "Python 3",
   "language": "python",
   "name": "python3"
  },
  "language_info": {
   "codemirror_mode": {
    "name": "ipython",
    "version": 3
   },
   "file_extension": ".py",
   "mimetype": "text/x-python",
   "name": "python",
   "nbconvert_exporter": "python",
   "pygments_lexer": "ipython3",
   "version": "3.8.5"
  }
 },
 "nbformat": 4,
 "nbformat_minor": 4
}
